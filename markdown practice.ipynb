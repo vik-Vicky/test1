{
  "metadata": {
    "kernelspec": {
      "name": "python",
      "display_name": "Python (Pyodide)",
      "language": "python"
    },
    "language_info": {
      "codemirror_mode": {
        "name": "python",
        "version": 3
      },
      "file_extension": ".py",
      "mimetype": "text/x-python",
      "name": "python",
      "nbconvert_exporter": "python",
      "pygments_lexer": "ipython3",
      "version": "3.8"
    }
  },
  "nbformat_minor": 4,
  "nbformat": 4,
  "cells": [
    {
      "cell_type": "markdown",
      "source": "",
      "metadata": {}
    },
    {
      "cell_type": "markdown",
      "source": "## Welcome to Python programming\nLauncher:![This is SN labs New Launcher](https://cf-courses-data.s3.us.cloud-object-storage.appdomain.cloud/IBMDeveloperSkillsNetwork-DS0105EN-SkillsNetwork/labs/Labs_V4/images/Launcher.png)",
      "metadata": {}
    },
    {
      "cell_type": "markdown",
      "source": "[Tools for data science]\n<a href=\"https://www.coursera.org/learn/open-source-tools-for-data-science/home/module/6\">Tools for data science</a>",
      "metadata": {}
    },
    {
      "cell_type": "markdown",
      "source": "|Fruits | Quantity(Kg) | Price(In Rupee) | \n| ------ | ------ | ------ | \n| Apple | 2 |500|\n|Orange | 1 |200|\n| Mango | 3 |1000|\n| Grapes | 2 |400|\n",
      "metadata": {}
    },
    {
      "cell_type": "markdown",
      "source": "1. Python\n2. Java\n3. C++\n4. C",
      "metadata": {}
    },
    {
      "cell_type": "code",
      "source": "11+4",
      "metadata": {
        "trusted": true
      },
      "outputs": [
        {
          "execution_count": 1,
          "output_type": "execute_result",
          "data": {
            "text/plain": "15"
          },
          "metadata": {}
        }
      ],
      "execution_count": 1
    },
    {
      "cell_type": "code",
      "source": "150*50",
      "metadata": {
        "trusted": true
      },
      "outputs": [
        {
          "execution_count": 2,
          "output_type": "execute_result",
          "data": {
            "text/plain": "7500"
          },
          "metadata": {}
        }
      ],
      "execution_count": 2
    },
    {
      "cell_type": "code",
      "source": "",
      "metadata": {
        "trusted": true
      },
      "outputs": [],
      "execution_count": null
    }
  ]
}